{
 "cells": [
  {
   "cell_type": "markdown",
   "id": "a6833cf9",
   "metadata": {},
   "source": [
    "# Differential Privacy <> TensorFlow for Data Scientist Salaries\n",
    "https://www.tensorflow.org/responsible_ai/privacy/tutorials/classification_privacy"
   ]
  },
  {
   "cell_type": "markdown",
   "id": "88d80311",
   "metadata": {},
   "source": [
    "## Setup Packages"
   ]
  },
  {
   "cell_type": "markdown",
   "id": "3d36f0ec",
   "metadata": {},
   "source": [
    "### Install TensorFlow"
   ]
  },
  {
   "cell_type": "code",
   "execution_count": 1,
   "id": "434cade7",
   "metadata": {
    "scrolled": true
   },
   "outputs": [
    {
     "name": "stdout",
     "output_type": "stream",
     "text": [
      "Requirement already satisfied: tensorflow in /opt/anaconda3/lib/python3.9/site-packages (2.8.0)\n",
      "Requirement already satisfied: setuptools in /opt/anaconda3/lib/python3.9/site-packages (from tensorflow) (58.0.4)\n",
      "Requirement already satisfied: typing-extensions>=3.6.6 in /opt/anaconda3/lib/python3.9/site-packages (from tensorflow) (3.10.0.2)\n",
      "Requirement already satisfied: protobuf>=3.9.2 in /opt/anaconda3/lib/python3.9/site-packages (from tensorflow) (3.20.1)\n",
      "Requirement already satisfied: flatbuffers>=1.12 in /opt/anaconda3/lib/python3.9/site-packages (from tensorflow) (2.0)\n",
      "Requirement already satisfied: numpy>=1.20 in /opt/anaconda3/lib/python3.9/site-packages (from tensorflow) (1.21.6)\n",
      "Requirement already satisfied: tf-estimator-nightly==2.8.0.dev2021122109 in /opt/anaconda3/lib/python3.9/site-packages (from tensorflow) (2.8.0.dev2021122109)\n",
      "Requirement already satisfied: h5py>=2.9.0 in /opt/anaconda3/lib/python3.9/site-packages (from tensorflow) (3.2.1)\n",
      "Requirement already satisfied: astunparse>=1.6.0 in /opt/anaconda3/lib/python3.9/site-packages (from tensorflow) (1.6.3)\n",
      "Requirement already satisfied: termcolor>=1.1.0 in /opt/anaconda3/lib/python3.9/site-packages (from tensorflow) (1.1.0)\n",
      "Requirement already satisfied: keras<2.9,>=2.8.0rc0 in /opt/anaconda3/lib/python3.9/site-packages (from tensorflow) (2.8.0)\n",
      "Requirement already satisfied: wrapt>=1.11.0 in /opt/anaconda3/lib/python3.9/site-packages (from tensorflow) (1.12.1)\n",
      "Requirement already satisfied: gast>=0.2.1 in /opt/anaconda3/lib/python3.9/site-packages (from tensorflow) (0.5.3)\n",
      "Requirement already satisfied: opt-einsum>=2.3.2 in /opt/anaconda3/lib/python3.9/site-packages (from tensorflow) (3.3.0)\n",
      "Requirement already satisfied: google-pasta>=0.1.1 in /opt/anaconda3/lib/python3.9/site-packages (from tensorflow) (0.2.0)\n",
      "Requirement already satisfied: tensorboard<2.9,>=2.8 in /opt/anaconda3/lib/python3.9/site-packages (from tensorflow) (2.8.0)\n",
      "Requirement already satisfied: grpcio<2.0,>=1.24.3 in /opt/anaconda3/lib/python3.9/site-packages (from tensorflow) (1.44.0)\n",
      "Requirement already satisfied: absl-py>=0.4.0 in /opt/anaconda3/lib/python3.9/site-packages (from tensorflow) (1.0.0)\n",
      "Requirement already satisfied: six>=1.12.0 in /opt/anaconda3/lib/python3.9/site-packages (from tensorflow) (1.16.0)\n",
      "Requirement already satisfied: keras-preprocessing>=1.1.1 in /opt/anaconda3/lib/python3.9/site-packages (from tensorflow) (1.1.2)\n",
      "Requirement already satisfied: tensorflow-io-gcs-filesystem>=0.23.1 in /opt/anaconda3/lib/python3.9/site-packages (from tensorflow) (0.25.0)\n",
      "Requirement already satisfied: libclang>=9.0.1 in /opt/anaconda3/lib/python3.9/site-packages (from tensorflow) (14.0.1)\n",
      "Requirement already satisfied: wheel<1.0,>=0.23.0 in /opt/anaconda3/lib/python3.9/site-packages (from astunparse>=1.6.0->tensorflow) (0.37.0)\n",
      "Requirement already satisfied: markdown>=2.6.8 in /opt/anaconda3/lib/python3.9/site-packages (from tensorboard<2.9,>=2.8->tensorflow) (3.3.6)\n",
      "Requirement already satisfied: tensorboard-plugin-wit>=1.6.0 in /opt/anaconda3/lib/python3.9/site-packages (from tensorboard<2.9,>=2.8->tensorflow) (1.8.1)\n",
      "Requirement already satisfied: requests<3,>=2.21.0 in /opt/anaconda3/lib/python3.9/site-packages (from tensorboard<2.9,>=2.8->tensorflow) (2.26.0)\n",
      "Requirement already satisfied: google-auth-oauthlib<0.5,>=0.4.1 in /opt/anaconda3/lib/python3.9/site-packages (from tensorboard<2.9,>=2.8->tensorflow) (0.4.6)\n",
      "Requirement already satisfied: werkzeug>=0.11.15 in /opt/anaconda3/lib/python3.9/site-packages (from tensorboard<2.9,>=2.8->tensorflow) (2.0.2)\n",
      "Requirement already satisfied: tensorboard-data-server<0.7.0,>=0.6.0 in /opt/anaconda3/lib/python3.9/site-packages (from tensorboard<2.9,>=2.8->tensorflow) (0.6.1)\n",
      "Requirement already satisfied: google-auth<3,>=1.6.3 in /opt/anaconda3/lib/python3.9/site-packages (from tensorboard<2.9,>=2.8->tensorflow) (2.6.6)\n",
      "Requirement already satisfied: cachetools<6.0,>=2.0.0 in /opt/anaconda3/lib/python3.9/site-packages (from google-auth<3,>=1.6.3->tensorboard<2.9,>=2.8->tensorflow) (5.0.0)\n",
      "Requirement already satisfied: rsa<5,>=3.1.4 in /opt/anaconda3/lib/python3.9/site-packages (from google-auth<3,>=1.6.3->tensorboard<2.9,>=2.8->tensorflow) (4.8)\n",
      "Requirement already satisfied: pyasn1-modules>=0.2.1 in /opt/anaconda3/lib/python3.9/site-packages (from google-auth<3,>=1.6.3->tensorboard<2.9,>=2.8->tensorflow) (0.2.8)\n",
      "Requirement already satisfied: requests-oauthlib>=0.7.0 in /opt/anaconda3/lib/python3.9/site-packages (from google-auth-oauthlib<0.5,>=0.4.1->tensorboard<2.9,>=2.8->tensorflow) (1.3.1)\n",
      "Requirement already satisfied: importlib-metadata>=4.4 in /opt/anaconda3/lib/python3.9/site-packages (from markdown>=2.6.8->tensorboard<2.9,>=2.8->tensorflow) (4.8.1)\n",
      "Requirement already satisfied: zipp>=0.5 in /opt/anaconda3/lib/python3.9/site-packages (from importlib-metadata>=4.4->markdown>=2.6.8->tensorboard<2.9,>=2.8->tensorflow) (3.6.0)\n",
      "Requirement already satisfied: pyasn1<0.5.0,>=0.4.6 in /opt/anaconda3/lib/python3.9/site-packages (from pyasn1-modules>=0.2.1->google-auth<3,>=1.6.3->tensorboard<2.9,>=2.8->tensorflow) (0.4.8)\n",
      "Requirement already satisfied: charset-normalizer~=2.0.0 in /opt/anaconda3/lib/python3.9/site-packages (from requests<3,>=2.21.0->tensorboard<2.9,>=2.8->tensorflow) (2.0.4)\n",
      "Requirement already satisfied: idna<4,>=2.5 in /opt/anaconda3/lib/python3.9/site-packages (from requests<3,>=2.21.0->tensorboard<2.9,>=2.8->tensorflow) (3.2)\n",
      "Requirement already satisfied: certifi>=2017.4.17 in /opt/anaconda3/lib/python3.9/site-packages (from requests<3,>=2.21.0->tensorboard<2.9,>=2.8->tensorflow) (2021.10.8)\n",
      "Requirement already satisfied: urllib3<1.27,>=1.21.1 in /opt/anaconda3/lib/python3.9/site-packages (from requests<3,>=2.21.0->tensorboard<2.9,>=2.8->tensorflow) (1.26.7)\n",
      "Requirement already satisfied: oauthlib>=3.0.0 in /opt/anaconda3/lib/python3.9/site-packages (from requests-oauthlib>=0.7.0->google-auth-oauthlib<0.5,>=0.4.1->tensorboard<2.9,>=2.8->tensorflow) (3.2.0)\n",
      "Requirement already satisfied: tensorflow-privacy in /opt/anaconda3/lib/python3.9/site-packages (0.8.0)\n",
      "Requirement already satisfied: scipy~=1.5.0 in /opt/anaconda3/lib/python3.9/site-packages (from tensorflow-privacy) (1.5.4)\n",
      "Requirement already satisfied: scikit-learn~=1.0.2 in /opt/anaconda3/lib/python3.9/site-packages (from tensorflow-privacy) (1.0.2)\n",
      "Requirement already satisfied: numpy~=1.21.5 in /opt/anaconda3/lib/python3.9/site-packages (from tensorflow-privacy) (1.21.6)\n",
      "Requirement already satisfied: pandas~=1.1.4 in /opt/anaconda3/lib/python3.9/site-packages (from tensorflow-privacy) (1.1.5)\n",
      "Requirement already satisfied: dm-tree~=0.1.1 in /opt/anaconda3/lib/python3.9/site-packages (from tensorflow-privacy) (0.1.7)\n",
      "Requirement already satisfied: matplotlib~=3.3.4 in /opt/anaconda3/lib/python3.9/site-packages (from tensorflow-privacy) (3.3.4)\n",
      "Requirement already satisfied: tensorflow-datasets~=4.5.2 in /opt/anaconda3/lib/python3.9/site-packages (from tensorflow-privacy) (4.5.2)\n",
      "Requirement already satisfied: attrs~=21.2.0 in /opt/anaconda3/lib/python3.9/site-packages (from tensorflow-privacy) (21.2.0)\n",
      "Requirement already satisfied: tensorflow-probability~=0.15.0 in /opt/anaconda3/lib/python3.9/site-packages (from tensorflow-privacy) (0.15.0)\n",
      "Requirement already satisfied: absl-py~=1.0.0 in /opt/anaconda3/lib/python3.9/site-packages (from tensorflow-privacy) (1.0.0)\n",
      "Requirement already satisfied: tensorflow-estimator~=2.4 in /opt/anaconda3/lib/python3.9/site-packages (from tensorflow-privacy) (2.8.0)\n",
      "Requirement already satisfied: tensorflow~=2.4 in /opt/anaconda3/lib/python3.9/site-packages (from tensorflow-privacy) (2.8.0)\n",
      "Requirement already satisfied: six in /opt/anaconda3/lib/python3.9/site-packages (from absl-py~=1.0.0->tensorflow-privacy) (1.16.0)\n",
      "Requirement already satisfied: python-dateutil>=2.1 in /opt/anaconda3/lib/python3.9/site-packages (from matplotlib~=3.3.4->tensorflow-privacy) (2.8.2)\n",
      "Requirement already satisfied: pillow>=6.2.0 in /opt/anaconda3/lib/python3.9/site-packages (from matplotlib~=3.3.4->tensorflow-privacy) (8.4.0)\n",
      "Requirement already satisfied: cycler>=0.10 in /opt/anaconda3/lib/python3.9/site-packages (from matplotlib~=3.3.4->tensorflow-privacy) (0.10.0)\n",
      "Requirement already satisfied: kiwisolver>=1.0.1 in /opt/anaconda3/lib/python3.9/site-packages (from matplotlib~=3.3.4->tensorflow-privacy) (1.3.1)\n",
      "Requirement already satisfied: pyparsing!=2.0.4,!=2.1.2,!=2.1.6,>=2.0.3 in /opt/anaconda3/lib/python3.9/site-packages (from matplotlib~=3.3.4->tensorflow-privacy) (3.0.4)\n"
     ]
    },
    {
     "name": "stdout",
     "output_type": "stream",
     "text": [
      "Requirement already satisfied: pytz>=2017.2 in /opt/anaconda3/lib/python3.9/site-packages (from pandas~=1.1.4->tensorflow-privacy) (2021.3)\n",
      "Requirement already satisfied: joblib>=0.11 in /opt/anaconda3/lib/python3.9/site-packages (from scikit-learn~=1.0.2->tensorflow-privacy) (1.1.0)\n",
      "Requirement already satisfied: threadpoolctl>=2.0.0 in /opt/anaconda3/lib/python3.9/site-packages (from scikit-learn~=1.0.2->tensorflow-privacy) (2.2.0)\n",
      "Requirement already satisfied: typing-extensions>=3.6.6 in /opt/anaconda3/lib/python3.9/site-packages (from tensorflow~=2.4->tensorflow-privacy) (3.10.0.2)\n",
      "Requirement already satisfied: termcolor>=1.1.0 in /opt/anaconda3/lib/python3.9/site-packages (from tensorflow~=2.4->tensorflow-privacy) (1.1.0)\n",
      "Requirement already satisfied: keras-preprocessing>=1.1.1 in /opt/anaconda3/lib/python3.9/site-packages (from tensorflow~=2.4->tensorflow-privacy) (1.1.2)\n",
      "Requirement already satisfied: google-pasta>=0.1.1 in /opt/anaconda3/lib/python3.9/site-packages (from tensorflow~=2.4->tensorflow-privacy) (0.2.0)\n",
      "Requirement already satisfied: tensorboard<2.9,>=2.8 in /opt/anaconda3/lib/python3.9/site-packages (from tensorflow~=2.4->tensorflow-privacy) (2.8.0)\n",
      "Requirement already satisfied: grpcio<2.0,>=1.24.3 in /opt/anaconda3/lib/python3.9/site-packages (from tensorflow~=2.4->tensorflow-privacy) (1.44.0)\n",
      "Requirement already satisfied: keras<2.9,>=2.8.0rc0 in /opt/anaconda3/lib/python3.9/site-packages (from tensorflow~=2.4->tensorflow-privacy) (2.8.0)\n",
      "Requirement already satisfied: protobuf>=3.9.2 in /opt/anaconda3/lib/python3.9/site-packages (from tensorflow~=2.4->tensorflow-privacy) (3.20.1)\n",
      "Requirement already satisfied: setuptools in /opt/anaconda3/lib/python3.9/site-packages (from tensorflow~=2.4->tensorflow-privacy) (58.0.4)\n",
      "Requirement already satisfied: tf-estimator-nightly==2.8.0.dev2021122109 in /opt/anaconda3/lib/python3.9/site-packages (from tensorflow~=2.4->tensorflow-privacy) (2.8.0.dev2021122109)\n",
      "Requirement already satisfied: flatbuffers>=1.12 in /opt/anaconda3/lib/python3.9/site-packages (from tensorflow~=2.4->tensorflow-privacy) (2.0)\n",
      "Requirement already satisfied: gast>=0.2.1 in /opt/anaconda3/lib/python3.9/site-packages (from tensorflow~=2.4->tensorflow-privacy) (0.5.3)\n",
      "Requirement already satisfied: h5py>=2.9.0 in /opt/anaconda3/lib/python3.9/site-packages (from tensorflow~=2.4->tensorflow-privacy) (3.2.1)\n",
      "Requirement already satisfied: opt-einsum>=2.3.2 in /opt/anaconda3/lib/python3.9/site-packages (from tensorflow~=2.4->tensorflow-privacy) (3.3.0)\n",
      "Requirement already satisfied: libclang>=9.0.1 in /opt/anaconda3/lib/python3.9/site-packages (from tensorflow~=2.4->tensorflow-privacy) (14.0.1)\n",
      "Requirement already satisfied: tensorflow-io-gcs-filesystem>=0.23.1 in /opt/anaconda3/lib/python3.9/site-packages (from tensorflow~=2.4->tensorflow-privacy) (0.25.0)\n",
      "Requirement already satisfied: astunparse>=1.6.0 in /opt/anaconda3/lib/python3.9/site-packages (from tensorflow~=2.4->tensorflow-privacy) (1.6.3)\n",
      "Requirement already satisfied: wrapt>=1.11.0 in /opt/anaconda3/lib/python3.9/site-packages (from tensorflow~=2.4->tensorflow-privacy) (1.12.1)\n",
      "Requirement already satisfied: wheel<1.0,>=0.23.0 in /opt/anaconda3/lib/python3.9/site-packages (from astunparse>=1.6.0->tensorflow~=2.4->tensorflow-privacy) (0.37.0)\n",
      "Requirement already satisfied: markdown>=2.6.8 in /opt/anaconda3/lib/python3.9/site-packages (from tensorboard<2.9,>=2.8->tensorflow~=2.4->tensorflow-privacy) (3.3.6)\n",
      "Requirement already satisfied: werkzeug>=0.11.15 in /opt/anaconda3/lib/python3.9/site-packages (from tensorboard<2.9,>=2.8->tensorflow~=2.4->tensorflow-privacy) (2.0.2)\n",
      "Requirement already satisfied: google-auth-oauthlib<0.5,>=0.4.1 in /opt/anaconda3/lib/python3.9/site-packages (from tensorboard<2.9,>=2.8->tensorflow~=2.4->tensorflow-privacy) (0.4.6)\n",
      "Requirement already satisfied: tensorboard-data-server<0.7.0,>=0.6.0 in /opt/anaconda3/lib/python3.9/site-packages (from tensorboard<2.9,>=2.8->tensorflow~=2.4->tensorflow-privacy) (0.6.1)\n",
      "Requirement already satisfied: tensorboard-plugin-wit>=1.6.0 in /opt/anaconda3/lib/python3.9/site-packages (from tensorboard<2.9,>=2.8->tensorflow~=2.4->tensorflow-privacy) (1.8.1)\n",
      "Requirement already satisfied: requests<3,>=2.21.0 in /opt/anaconda3/lib/python3.9/site-packages (from tensorboard<2.9,>=2.8->tensorflow~=2.4->tensorflow-privacy) (2.26.0)\n",
      "Requirement already satisfied: google-auth<3,>=1.6.3 in /opt/anaconda3/lib/python3.9/site-packages (from tensorboard<2.9,>=2.8->tensorflow~=2.4->tensorflow-privacy) (2.6.6)\n",
      "Requirement already satisfied: cachetools<6.0,>=2.0.0 in /opt/anaconda3/lib/python3.9/site-packages (from google-auth<3,>=1.6.3->tensorboard<2.9,>=2.8->tensorflow~=2.4->tensorflow-privacy) (5.0.0)\n",
      "Requirement already satisfied: rsa<5,>=3.1.4 in /opt/anaconda3/lib/python3.9/site-packages (from google-auth<3,>=1.6.3->tensorboard<2.9,>=2.8->tensorflow~=2.4->tensorflow-privacy) (4.8)\n",
      "Requirement already satisfied: pyasn1-modules>=0.2.1 in /opt/anaconda3/lib/python3.9/site-packages (from google-auth<3,>=1.6.3->tensorboard<2.9,>=2.8->tensorflow~=2.4->tensorflow-privacy) (0.2.8)\n",
      "Requirement already satisfied: requests-oauthlib>=0.7.0 in /opt/anaconda3/lib/python3.9/site-packages (from google-auth-oauthlib<0.5,>=0.4.1->tensorboard<2.9,>=2.8->tensorflow~=2.4->tensorflow-privacy) (1.3.1)\n",
      "Requirement already satisfied: importlib-metadata>=4.4 in /opt/anaconda3/lib/python3.9/site-packages (from markdown>=2.6.8->tensorboard<2.9,>=2.8->tensorflow~=2.4->tensorflow-privacy) (4.8.1)\n",
      "Requirement already satisfied: zipp>=0.5 in /opt/anaconda3/lib/python3.9/site-packages (from importlib-metadata>=4.4->markdown>=2.6.8->tensorboard<2.9,>=2.8->tensorflow~=2.4->tensorflow-privacy) (3.6.0)\n",
      "Requirement already satisfied: pyasn1<0.5.0,>=0.4.6 in /opt/anaconda3/lib/python3.9/site-packages (from pyasn1-modules>=0.2.1->google-auth<3,>=1.6.3->tensorboard<2.9,>=2.8->tensorflow~=2.4->tensorflow-privacy) (0.4.8)\n",
      "Requirement already satisfied: certifi>=2017.4.17 in /opt/anaconda3/lib/python3.9/site-packages (from requests<3,>=2.21.0->tensorboard<2.9,>=2.8->tensorflow~=2.4->tensorflow-privacy) (2021.10.8)\n",
      "Requirement already satisfied: charset-normalizer~=2.0.0 in /opt/anaconda3/lib/python3.9/site-packages (from requests<3,>=2.21.0->tensorboard<2.9,>=2.8->tensorflow~=2.4->tensorflow-privacy) (2.0.4)\n",
      "Requirement already satisfied: urllib3<1.27,>=1.21.1 in /opt/anaconda3/lib/python3.9/site-packages (from requests<3,>=2.21.0->tensorboard<2.9,>=2.8->tensorflow~=2.4->tensorflow-privacy) (1.26.7)\n",
      "Requirement already satisfied: idna<4,>=2.5 in /opt/anaconda3/lib/python3.9/site-packages (from requests<3,>=2.21.0->tensorboard<2.9,>=2.8->tensorflow~=2.4->tensorflow-privacy) (3.2)\n",
      "Requirement already satisfied: oauthlib>=3.0.0 in /opt/anaconda3/lib/python3.9/site-packages (from requests-oauthlib>=0.7.0->google-auth-oauthlib<0.5,>=0.4.1->tensorboard<2.9,>=2.8->tensorflow~=2.4->tensorflow-privacy) (3.2.0)\n",
      "Requirement already satisfied: tensorflow-metadata in /opt/anaconda3/lib/python3.9/site-packages (from tensorflow-datasets~=4.5.2->tensorflow-privacy) (1.7.0)\n",
      "Requirement already satisfied: dill in /opt/anaconda3/lib/python3.9/site-packages (from tensorflow-datasets~=4.5.2->tensorflow-privacy) (0.3.4)\n",
      "Requirement already satisfied: promise in /opt/anaconda3/lib/python3.9/site-packages (from tensorflow-datasets~=4.5.2->tensorflow-privacy) (2.3)\n",
      "Requirement already satisfied: tqdm in /opt/anaconda3/lib/python3.9/site-packages (from tensorflow-datasets~=4.5.2->tensorflow-privacy) (4.62.3)\n",
      "Requirement already satisfied: cloudpickle>=1.3 in /opt/anaconda3/lib/python3.9/site-packages (from tensorflow-probability~=0.15.0->tensorflow-privacy) (2.0.0)\n",
      "Requirement already satisfied: decorator in /opt/anaconda3/lib/python3.9/site-packages (from tensorflow-probability~=0.15.0->tensorflow-privacy) (5.1.0)\n",
      "Requirement already satisfied: googleapis-common-protos<2,>=1.52.0 in /opt/anaconda3/lib/python3.9/site-packages (from tensorflow-metadata->tensorflow-datasets~=4.5.2->tensorflow-privacy) (1.56.0)\n"
     ]
    }
   ],
   "source": [
    "!pip install tensorflow\n",
    "!pip install tensorflow-privacy"
   ]
  },
  {
   "cell_type": "code",
   "execution_count": 2,
   "id": "11be53f9",
   "metadata": {},
   "outputs": [
    {
     "name": "stdout",
     "output_type": "stream",
     "text": [
      "WARNING:tensorflow:From /opt/anaconda3/lib/python3.9/site-packages/tensorflow/python/compat/v2_compat.py:107: disable_resource_variables (from tensorflow.python.ops.variable_scope) is deprecated and will be removed in a future version.\n",
      "Instructions for updating:\n",
      "non-resource variables are not supported in the long term\n"
     ]
    }
   ],
   "source": [
    "import tensorflow as tf\n",
    "tf.compat.v1.disable_v2_behavior()\n",
    "\n",
    "import numpy as np\n",
    "\n",
    "tf.get_logger().setLevel('ERROR')\n",
    "\n",
    "import tensorflow_privacy\n",
    "from tensorflow_privacy.privacy.analysis import compute_dp_sgd_privacy"
   ]
  },
  {
   "cell_type": "markdown",
   "id": "445d46bd",
   "metadata": {},
   "source": [
    "### Install Other Libraries"
   ]
  },
  {
   "cell_type": "code",
   "execution_count": 3,
   "id": "2a39e923",
   "metadata": {},
   "outputs": [],
   "source": [
    "import datetime\n",
    "from datetime import datetime\n",
    "\n",
    "from numpy.random import RandomState\n",
    "import pandas as pd\n",
    "from sklearn import preprocessing"
   ]
  },
  {
   "cell_type": "markdown",
   "id": "879e069f",
   "metadata": {},
   "source": [
    "## Setup Data"
   ]
  },
  {
   "cell_type": "markdown",
   "id": "d1ce9edf",
   "metadata": {},
   "source": [
    "### Categorize Salaries"
   ]
  },
  {
   "cell_type": "code",
   "execution_count": 4,
   "id": "adf46122",
   "metadata": {
    "scrolled": true
   },
   "outputs": [
    {
     "data": {
      "text/plain": [
       "<AxesSubplot:>"
      ]
     },
     "execution_count": 4,
     "metadata": {},
     "output_type": "execute_result"
    },
    {
     "data": {
      "image/png": "[encoded data removed]",
      "text/plain": [
       "<Figure size 432x288 with 1 Axes>"
      ]
     },
     "metadata": {
      "needs_background": "light"
     },
     "output_type": "display_data"
    }
   ],
   "source": [
    "df = pd.read_csv('salaries.csv')\n",
    "\n",
    "salary_ranges = [0,80000,200000,np.inf]\n",
    "df['salaryrange'] = pd.cut(df.totalyearlycompensation, salary_ranges, labels=[0,1,2], include_lowest=True)\n",
    "\n",
    "df['salaryrange'].hist(bins=len(salary_ranges) - 1)"
   ]
  },
  {
   "cell_type": "code",
   "execution_count": 5,
   "id": "d11f1f97",
   "metadata": {
    "scrolled": true
   },
   "outputs": [
    {
     "data": {
      "text/plain": [
       "1    30203\n",
       "2    27429\n",
       "0     5010\n",
       "Name: salaryrange, dtype: int64"
      ]
     },
     "execution_count": 5,
     "metadata": {},
     "output_type": "execute_result"
    }
   ],
   "source": [
    "df.salaryrange.value_counts()"
   ]
  },
  {
   "cell_type": "markdown",
   "id": "8c9a409a",
   "metadata": {},
   "source": [
    "### Make All Values Into Integers"
   ]
  },
  {
   "cell_type": "code",
   "execution_count": 6,
   "id": "753dd032",
   "metadata": {},
   "outputs": [],
   "source": [
    "# encode timestamp into integers, by year and month\n",
    "def timestamp_to_int(timestamp):\n",
    "    dt_obj = datetime.strptime(timestamp.split(' ')[0], '%m/%d/%Y')\n",
    "    return (100 * dt_obj.year) + (dt_obj.month)\n",
    "\n",
    "df['timestamp'] = df['timestamp'].apply(timestamp_to_int)\n",
    "\n",
    "# turn company names to lowercase and encode as integers\n",
    "df['company'] = df['company'].apply(lambda t: str(t).lower())\n",
    "df['company'] = pd.Categorical(pd.factorize(df['company'])[0])\n",
    "\n",
    "# encode level as integer\n",
    "df['level'] = pd.Categorical(pd.factorize(df['level'])[0])\n",
    "\n",
    "# encode title as integer\n",
    "df['title'] = pd.Categorical(pd.factorize(df['title'])[0])\n",
    "\n",
    "# encode tag as integer\n",
    "df['tag'] = pd.Categorical(pd.factorize(df['tag'])[0])\n",
    "\n",
    "# encode gender as integer\n",
    "df['gender'] = pd.Categorical(pd.factorize(df['gender'])[0])\n",
    "\n",
    "# encode Race as integer\n",
    "df['Race'] = pd.Categorical(pd.factorize(df['Race'])[0])\n",
    "\n",
    "# encode Education as integer\n",
    "df['Education'] = pd.Categorical(pd.factorize(df['Education'])[0])\n"
   ]
  },
  {
   "cell_type": "markdown",
   "id": "54901222",
   "metadata": {},
   "source": [
    "### Remove Rows"
   ]
  },
  {
   "cell_type": "code",
   "execution_count": 7,
   "id": "1dcde5a9",
   "metadata": {},
   "outputs": [],
   "source": [
    "df = df[df['gender'] != -1]\n",
    "df = df[df['Education'] != -1]\n",
    "df = df[df['Race'] != -1]"
   ]
  },
  {
   "cell_type": "markdown",
   "id": "be47266a",
   "metadata": {},
   "source": [
    "### Drop Columns"
   ]
  },
  {
   "cell_type": "code",
   "execution_count": 8,
   "id": "919ac06d",
   "metadata": {
    "scrolled": true
   },
   "outputs": [],
   "source": [
    "# make model predict without knowledge of the totalyearlycompensation\n",
    "df.drop('totalyearlycompensation', axis=1, inplace=True)\n",
    "\n",
    "# location information is already encoded as an integer in 'cityid'\n",
    "df.drop('location', axis=1, inplace=True)\n",
    "\n",
    "# make model predict without knowledge of the base salary\n",
    "df.drop('basesalary', axis=1, inplace=True)\n",
    "\n",
    "# 'otherdetails' column requires NLP to interpret\n",
    "df.drop('otherdetails', axis=1, inplace=True)\n",
    "\n",
    "# 'rowNumber' column is unnecessary\n",
    "df.drop('rowNumber', axis=1, inplace=True)\n",
    "\n",
    "# education information is entirely encoded in the 'Education' column already\n",
    "df.drop('Masters_Degree', axis=1, inplace=True)\n",
    "df.drop('Bachelors_Degree', axis=1, inplace=True)\n",
    "df.drop('Doctorate_Degree', axis=1, inplace=True)\n",
    "df.drop('Highschool', axis=1, inplace=True)\n",
    "df.drop('Some_College', axis=1, inplace=True)\n",
    "\n",
    "# race information is entirely encoded in the 'Race' column already\n",
    "df.drop('Race_Asian', axis=1, inplace=True)\n",
    "df.drop('Race_White', axis=1, inplace=True)\n",
    "df.drop('Race_Two_Or_More', axis=1, inplace=True)\n",
    "df.drop('Race_Black', axis=1, inplace=True)\n",
    "df.drop('Race_Hispanic', axis=1, inplace=True)"
   ]
  },
  {
   "cell_type": "markdown",
   "id": "15f94dc5",
   "metadata": {},
   "source": [
    "### Training/Testing Data"
   ]
  },
  {
   "cell_type": "code",
   "execution_count": 9,
   "id": "4b77b611",
   "metadata": {
    "scrolled": true
   },
   "outputs": [],
   "source": [
    "drop_indices = np.random.choice(df.index, len(df.index) % 1250, replace=False)\n",
    "df.drop(drop_indices, inplace=True)\n",
    "\n",
    "rng = RandomState()\n",
    "\n",
    "df_train = df.sample(frac=0.8, random_state=rng)\n",
    "df_test = df.loc[~df.index.isin(df_train.index)]"
   ]
  },
  {
   "cell_type": "code",
   "execution_count": 10,
   "id": "b94dd269",
   "metadata": {},
   "outputs": [],
   "source": [
    "train_data = df_train.loc[:, df_train.columns != 'salaryrange'].to_numpy()\n",
    "test_data = df_test.loc[:, df_test.columns != 'salaryrange'].to_numpy()\n",
    "\n",
    "train_labels = df_train['salaryrange'].to_numpy()\n",
    "test_labels = df_test['salaryrange'].to_numpy()\n",
    "\n",
    "train_labels = tf.keras.utils.to_categorical(train_labels, num_classes=len(salary_ranges) - 1)\n",
    "test_labels = tf.keras.utils.to_categorical(test_labels, num_classes=len(salary_ranges) - 1)"
   ]
  },
  {
   "cell_type": "markdown",
   "id": "19852ae3",
   "metadata": {},
   "source": [
    "## Make Models"
   ]
  },
  {
   "cell_type": "code",
   "execution_count": 11,
   "id": "4518a6f3",
   "metadata": {},
   "outputs": [],
   "source": [
    "epochs = 7\n",
    "batch_size = 250\n",
    "\n",
    "l2_norm_clip = 1.4\n",
    "noise_multiplier = 1.3\n",
    "num_microbatches = 125\n",
    "learning_rate = 0.2\n",
    "\n",
    "if batch_size % num_microbatches != 0:\n",
    "  raise ValueError('Batch size should be an integer multiple of the number of microbatches')"
   ]
  },
  {
   "cell_type": "markdown",
   "id": "f7f7ef2b",
   "metadata": {},
   "source": [
    "### Baseline Model"
   ]
  },
  {
   "cell_type": "code",
   "execution_count": 12,
   "id": "427c22a0",
   "metadata": {
    "scrolled": true
   },
   "outputs": [
    {
     "name": "stdout",
     "output_type": "stream",
     "text": [
      "Model: \"sequential\"\n",
      "_________________________________________________________________\n",
      " Layer (type)                Output Shape              Param #   \n",
      "=================================================================\n",
      " dense (Dense)               multiple                  1920      \n",
      "                                                                 \n",
      " dense_1 (Dense)             multiple                  8256      \n",
      "                                                                 \n",
      " dense_2 (Dense)             multiple                  2080      \n",
      "                                                                 \n",
      " dense_3 (Dense)             multiple                  99        \n",
      "                                                                 \n",
      "=================================================================\n",
      "Total params: 12,355\n",
      "Trainable params: 12,355\n",
      "Non-trainable params: 0\n",
      "_________________________________________________________________\n",
      "Train on 17000 samples, validate on 4250 samples\n",
      "Epoch 1/7\n",
      "10500/17000 [=================>............] - ETA: 0s - loss: 0.9728 - acc: 0.5119"
     ]
    },
    {
     "name": "stderr",
     "output_type": "stream",
     "text": [
      "2022-05-10 17:00:57.009497: I tensorflow/core/platform/cpu_feature_guard.cc:151] This TensorFlow binary is optimized with oneAPI Deep Neural Network Library (oneDNN) to use the following CPU instructions in performance-critical operations:  AVX2 FMA\n",
      "To enable them in other operations, rebuild TensorFlow with the appropriate compiler flags.\n"
     ]
    },
    {
     "name": "stdout",
     "output_type": "stream",
     "text": [
      "17000/17000 [==============================] - 0s 10us/sample - loss: 0.9413 - acc: 0.5564 - val_loss: 0.8660 - val_acc: 0.6487\n",
      "Epoch 2/7\n",
      "17000/17000 [==============================] - 0s 5us/sample - loss: 0.7906 - acc: 0.7170 - val_loss: 0.7024 - val_acc: 0.7631\n",
      "Epoch 3/7\n",
      "12000/17000 [====================>.........] - ETA: 0s - loss: 0.6711 - acc: 0.7647"
     ]
    },
    {
     "name": "stderr",
     "output_type": "stream",
     "text": [
      "/opt/anaconda3/lib/python3.9/site-packages/keras/engine/training_v1.py:2057: UserWarning: `Model.state_updates` will be removed in a future version. This property should not be used in TensorFlow 2.0, as `updates` are applied automatically.\n",
      "  updates = self.state_updates\n"
     ]
    },
    {
     "name": "stdout",
     "output_type": "stream",
     "text": [
      "17000/17000 [==============================] - 0s 5us/sample - loss: 0.6548 - acc: 0.7705 - val_loss: 0.6022 - val_acc: 0.7901\n",
      "Epoch 4/7\n",
      "17000/17000 [==============================] - 0s 6us/sample - loss: 0.5868 - acc: 0.7875 - val_loss: 0.5542 - val_acc: 0.8005\n",
      "Epoch 5/7\n",
      "17000/17000 [==============================] - 0s 6us/sample - loss: 0.5564 - acc: 0.7868 - val_loss: 0.5293 - val_acc: 0.7979\n",
      "Epoch 6/7\n",
      "17000/17000 [==============================] - 0s 5us/sample - loss: 0.5356 - acc: 0.7862 - val_loss: 0.5189 - val_acc: 0.7889\n",
      "Epoch 7/7\n",
      "17000/17000 [==============================] - 0s 5us/sample - loss: 0.5250 - acc: 0.7835 - val_loss: 0.5174 - val_acc: 0.7984\n"
     ]
    },
    {
     "data": {
      "text/plain": [
       "<keras.callbacks.History at 0x7fc6a9270100>"
      ]
     },
     "execution_count": 12,
     "metadata": {},
     "output_type": "execute_result"
    }
   ],
   "source": [
    "model_base = tf.keras.Sequential([\n",
    "    tf.keras.layers.Dense(128, activation='sigmoid'),\n",
    "    tf.keras.layers.Dense(64, activation='sigmoid'),\n",
    "    tf.keras.layers.Dense(32, activation='sigmoid'),\n",
    "    tf.keras.layers.Dense(len(salary_ranges) - 1, activation='softmax')\n",
    "])\n",
    "\n",
    "model_base.compile(optimizer=tf.keras.optimizers.Adam(5e-4), loss='categorical_crossentropy', metrics=['accuracy'])\n",
    "model_base.build(train_data.shape)\n",
    "model_base.summary()\n",
    "model_base.fit(train_data, train_labels, epochs=epochs, validation_data=(test_data, test_labels), batch_size=batch_size)"
   ]
  },
  {
   "cell_type": "code",
   "execution_count": 13,
   "id": "4311d2df",
   "metadata": {},
   "outputs": [
    {
     "name": "stdout",
     "output_type": "stream",
     "text": [
      "0.79835296\n"
     ]
    }
   ],
   "source": [
    "model_base_loss, model_base_metric = model_base.evaluate(test_data, test_labels, batch_size=batch_size)\n",
    "print(model_base_metric)"
   ]
  },
  {
   "cell_type": "markdown",
   "id": "4727f6ab",
   "metadata": {},
   "source": [
    "### DP Model"
   ]
  },
  {
   "cell_type": "code",
   "execution_count": 14,
   "id": "18e61d7c",
   "metadata": {},
   "outputs": [
    {
     "name": "stdout",
     "output_type": "stream",
     "text": [
      "Model: \"sequential_1\"\n",
      "_________________________________________________________________\n",
      " Layer (type)                Output Shape              Param #   \n",
      "=================================================================\n",
      " dense_4 (Dense)             multiple                  1920      \n",
      "                                                                 \n",
      " dense_5 (Dense)             multiple                  8256      \n",
      "                                                                 \n",
      " dense_6 (Dense)             multiple                  2080      \n",
      "                                                                 \n",
      " dense_7 (Dense)             multiple                  99        \n",
      "                                                                 \n",
      "=================================================================\n",
      "Total params: 12,355\n",
      "Trainable params: 12,355\n",
      "Non-trainable params: 0\n",
      "_________________________________________________________________\n"
     ]
    },
    {
     "name": "stderr",
     "output_type": "stream",
     "text": [
      "/opt/anaconda3/lib/python3.9/site-packages/tensorflow/python/util/dispatch.py:1082: UserWarning: \"`categorical_crossentropy` received `from_logits=True`, but the `output` argument was produced by a sigmoid or softmax activation and thus does not represent logits. Was this intended?\"\n",
      "  return dispatch_target(*args, **kwargs)\n"
     ]
    },
    {
     "name": "stdout",
     "output_type": "stream",
     "text": [
      "Train on 17000 samples, validate on 4250 samples\n",
      "Epoch 1/7\n",
      "17000/17000 [==============================] - 5s 298us/sample - loss: 0.9230 - acc: 0.5719 - val_loss: 0.8408 - val_acc: 0.7233\n",
      "Epoch 2/7\n",
      "17000/17000 [==============================] - 1s 54us/sample - loss: 0.7470 - acc: 0.7407 - val_loss: 0.6473 - val_acc: 0.7569\n",
      "Epoch 3/7\n",
      "17000/17000 [==============================] - 1s 62us/sample - loss: 0.6151 - acc: 0.7673 - val_loss: 0.5734 - val_acc: 0.7824\n",
      "Epoch 4/7\n",
      "17000/17000 [==============================] - 1s 62us/sample - loss: 0.5897 - acc: 0.7748 - val_loss: 0.5583 - val_acc: 0.7906\n",
      "Epoch 5/7\n",
      "17000/17000 [==============================] - 1s 63us/sample - loss: 0.5796 - acc: 0.7756 - val_loss: 0.5761 - val_acc: 0.7715\n",
      "Epoch 6/7\n",
      "17000/17000 [==============================] - 1s 69us/sample - loss: 0.5765 - acc: 0.7773 - val_loss: 0.5587 - val_acc: 0.7885\n",
      "Epoch 7/7\n",
      "17000/17000 [==============================] - 1s 63us/sample - loss: 0.5748 - acc: 0.7734 - val_loss: 0.5507 - val_acc: 0.7878\n"
     ]
    },
    {
     "data": {
      "text/plain": [
       "<keras.callbacks.History at 0x7fc6a928b370>"
      ]
     },
     "execution_count": 14,
     "metadata": {},
     "output_type": "execute_result"
    }
   ],
   "source": [
    "model_dp = tf.keras.Sequential([\n",
    "    tf.keras.layers.Dense(128, activation='sigmoid'),\n",
    "    tf.keras.layers.Dense(64, activation='sigmoid'),\n",
    "    tf.keras.layers.Dense(32, activation='sigmoid'),\n",
    "    tf.keras.layers.Dense(len(salary_ranges) - 1, activation='softmax')\n",
    "])\n",
    "\n",
    "optimizer = tensorflow_privacy.DPKerasSGDOptimizer(\n",
    "    l2_norm_clip=l2_norm_clip,\n",
    "    noise_multiplier=noise_multiplier,\n",
    "    num_microbatches=num_microbatches,\n",
    "    learning_rate=learning_rate)\n",
    "\n",
    "loss = tf.keras.losses.CategoricalCrossentropy(from_logits=True, reduction=tf.losses.Reduction.NONE)\n",
    "\n",
    "model_dp.compile(optimizer=optimizer, loss=loss, metrics=['accuracy'])\n",
    "model_dp.build(train_data.shape)\n",
    "model_dp.summary()\n",
    "model_dp.fit(train_data, train_labels, epochs=epochs, validation_data=(test_data, test_labels), batch_size=batch_size)"
   ]
  },
  {
   "cell_type": "code",
   "execution_count": 15,
   "id": "e9f07b80",
   "metadata": {},
   "outputs": [
    {
     "name": "stdout",
     "output_type": "stream",
     "text": [
      "0.7877647\n"
     ]
    }
   ],
   "source": [
    "model_dp_loss, model_dp_metric = model_dp.evaluate(test_data, test_labels, batch_size=batch_size)\n",
    "print(model_dp_metric)"
   ]
  },
  {
   "cell_type": "code",
   "execution_count": 16,
   "id": "6d7f58d8",
   "metadata": {},
   "outputs": [
    {
     "name": "stdout",
     "output_type": "stream",
     "text": [
      "DP-SGD with sampling rate = 1.47% and noise_multiplier = 1.3 iterated over 476 steps satisfies differential privacy with eps = 1.54 and delta = 1e-06.\n",
      "The optimal RDP order is 13.0.\n"
     ]
    },
    {
     "data": {
      "text/plain": [
       "(1.5397192233591848, 13.0)"
      ]
     },
     "execution_count": 16,
     "metadata": {},
     "output_type": "execute_result"
    }
   ],
   "source": [
    "compute_dp_sgd_privacy.compute_dp_sgd_privacy(n=train_data.shape[0],\n",
    "                                              batch_size=batch_size,\n",
    "                                              noise_multiplier=noise_multiplier,\n",
    "                                              epochs=epochs,\n",
    "                                              delta=1e-6)"
   ]
  }
 ],
 "metadata": {
  "kernelspec": {
   "display_name": "Python 3 (ipykernel)",
   "language": "python",
   "name": "python3"
  },
  "language_info": {
   "codemirror_mode": {
    "name": "ipython",
    "version": 3
   },
   "file_extension": ".py",
   "mimetype": "text/x-python",
   "name": "python",
   "nbconvert_exporter": "python",
   "pygments_lexer": "ipython3",
   "version": "3.9.7"
  }
 },
 "nbformat": 4,
 "nbformat_minor": 5
}
