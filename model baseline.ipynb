{
 "cells": [
  {
   "cell_type": "markdown",
   "id": "a6833cf9",
   "metadata": {},
   "source": [
    "# Baseline Model for Data Scientist Salaries Classification"
   ]
  },
  {
   "cell_type": "markdown",
   "id": "88d80311",
   "metadata": {},
   "source": [
    "## Setup Packages"
   ]
  },
  {
   "cell_type": "markdown",
   "id": "3d36f0ec",
   "metadata": {},
   "source": [
    "### Install TensorFlow"
   ]
  },
  {
   "cell_type": "code",
   "execution_count": 1,
   "id": "434cade7",
   "metadata": {
    "scrolled": true
   },
   "outputs": [
    {
     "name": "stdout",
     "output_type": "stream",
     "text": [
      "Requirement already satisfied: tensorflow in /opt/anaconda3/lib/python3.9/site-packages (2.8.0)\n",
      "Requirement already satisfied: grpcio<2.0,>=1.24.3 in /opt/anaconda3/lib/python3.9/site-packages (from tensorflow) (1.44.0)\n",
      "Requirement already satisfied: protobuf>=3.9.2 in /opt/anaconda3/lib/python3.9/site-packages (from tensorflow) (3.20.1)\n",
      "Requirement already satisfied: six>=1.12.0 in /opt/anaconda3/lib/python3.9/site-packages (from tensorflow) (1.16.0)\n",
      "Requirement already satisfied: gast>=0.2.1 in /opt/anaconda3/lib/python3.9/site-packages (from tensorflow) (0.5.3)\n",
      "Requirement already satisfied: absl-py>=0.4.0 in /opt/anaconda3/lib/python3.9/site-packages (from tensorflow) (1.0.0)\n",
      "Requirement already satisfied: numpy>=1.20 in /opt/anaconda3/lib/python3.9/site-packages (from tensorflow) (1.21.6)\n",
      "Requirement already satisfied: libclang>=9.0.1 in /opt/anaconda3/lib/python3.9/site-packages (from tensorflow) (14.0.1)\n",
      "Requirement already satisfied: setuptools in /opt/anaconda3/lib/python3.9/site-packages (from tensorflow) (58.0.4)\n",
      "Requirement already satisfied: astunparse>=1.6.0 in /opt/anaconda3/lib/python3.9/site-packages (from tensorflow) (1.6.3)\n",
      "Requirement already satisfied: h5py>=2.9.0 in /opt/anaconda3/lib/python3.9/site-packages (from tensorflow) (3.2.1)\n",
      "Requirement already satisfied: opt-einsum>=2.3.2 in /opt/anaconda3/lib/python3.9/site-packages (from tensorflow) (3.3.0)\n",
      "Requirement already satisfied: tf-estimator-nightly==2.8.0.dev2021122109 in /opt/anaconda3/lib/python3.9/site-packages (from tensorflow) (2.8.0.dev2021122109)\n",
      "Requirement already satisfied: typing-extensions>=3.6.6 in /opt/anaconda3/lib/python3.9/site-packages (from tensorflow) (3.10.0.2)\n",
      "Requirement already satisfied: keras<2.9,>=2.8.0rc0 in /opt/anaconda3/lib/python3.9/site-packages (from tensorflow) (2.8.0)\n",
      "Requirement already satisfied: flatbuffers>=1.12 in /opt/anaconda3/lib/python3.9/site-packages (from tensorflow) (2.0)\n",
      "Requirement already satisfied: tensorboard<2.9,>=2.8 in /opt/anaconda3/lib/python3.9/site-packages (from tensorflow) (2.8.0)\n",
      "Requirement already satisfied: wrapt>=1.11.0 in /opt/anaconda3/lib/python3.9/site-packages (from tensorflow) (1.12.1)\n",
      "Requirement already satisfied: termcolor>=1.1.0 in /opt/anaconda3/lib/python3.9/site-packages (from tensorflow) (1.1.0)\n",
      "Requirement already satisfied: google-pasta>=0.1.1 in /opt/anaconda3/lib/python3.9/site-packages (from tensorflow) (0.2.0)\n",
      "Requirement already satisfied: keras-preprocessing>=1.1.1 in /opt/anaconda3/lib/python3.9/site-packages (from tensorflow) (1.1.2)\n",
      "Requirement already satisfied: tensorflow-io-gcs-filesystem>=0.23.1 in /opt/anaconda3/lib/python3.9/site-packages (from tensorflow) (0.25.0)\n",
      "Requirement already satisfied: wheel<1.0,>=0.23.0 in /opt/anaconda3/lib/python3.9/site-packages (from astunparse>=1.6.0->tensorflow) (0.37.0)\n",
      "Requirement already satisfied: tensorboard-plugin-wit>=1.6.0 in /opt/anaconda3/lib/python3.9/site-packages (from tensorboard<2.9,>=2.8->tensorflow) (1.8.1)\n",
      "Requirement already satisfied: markdown>=2.6.8 in /opt/anaconda3/lib/python3.9/site-packages (from tensorboard<2.9,>=2.8->tensorflow) (3.3.6)\n",
      "Requirement already satisfied: requests<3,>=2.21.0 in /opt/anaconda3/lib/python3.9/site-packages (from tensorboard<2.9,>=2.8->tensorflow) (2.26.0)\n",
      "Requirement already satisfied: google-auth-oauthlib<0.5,>=0.4.1 in /opt/anaconda3/lib/python3.9/site-packages (from tensorboard<2.9,>=2.8->tensorflow) (0.4.6)\n",
      "Requirement already satisfied: tensorboard-data-server<0.7.0,>=0.6.0 in /opt/anaconda3/lib/python3.9/site-packages (from tensorboard<2.9,>=2.8->tensorflow) (0.6.1)\n",
      "Requirement already satisfied: werkzeug>=0.11.15 in /opt/anaconda3/lib/python3.9/site-packages (from tensorboard<2.9,>=2.8->tensorflow) (2.0.2)\n",
      "Requirement already satisfied: google-auth<3,>=1.6.3 in /opt/anaconda3/lib/python3.9/site-packages (from tensorboard<2.9,>=2.8->tensorflow) (2.6.6)\n",
      "Requirement already satisfied: pyasn1-modules>=0.2.1 in /opt/anaconda3/lib/python3.9/site-packages (from google-auth<3,>=1.6.3->tensorboard<2.9,>=2.8->tensorflow) (0.2.8)\n",
      "Requirement already satisfied: cachetools<6.0,>=2.0.0 in /opt/anaconda3/lib/python3.9/site-packages (from google-auth<3,>=1.6.3->tensorboard<2.9,>=2.8->tensorflow) (5.0.0)\n",
      "Requirement already satisfied: rsa<5,>=3.1.4 in /opt/anaconda3/lib/python3.9/site-packages (from google-auth<3,>=1.6.3->tensorboard<2.9,>=2.8->tensorflow) (4.8)\n",
      "Requirement already satisfied: requests-oauthlib>=0.7.0 in /opt/anaconda3/lib/python3.9/site-packages (from google-auth-oauthlib<0.5,>=0.4.1->tensorboard<2.9,>=2.8->tensorflow) (1.3.1)\n",
      "Requirement already satisfied: importlib-metadata>=4.4 in /opt/anaconda3/lib/python3.9/site-packages (from markdown>=2.6.8->tensorboard<2.9,>=2.8->tensorflow) (4.8.1)\n",
      "Requirement already satisfied: zipp>=0.5 in /opt/anaconda3/lib/python3.9/site-packages (from importlib-metadata>=4.4->markdown>=2.6.8->tensorboard<2.9,>=2.8->tensorflow) (3.6.0)\n",
      "Requirement already satisfied: pyasn1<0.5.0,>=0.4.6 in /opt/anaconda3/lib/python3.9/site-packages (from pyasn1-modules>=0.2.1->google-auth<3,>=1.6.3->tensorboard<2.9,>=2.8->tensorflow) (0.4.8)\n",
      "Requirement already satisfied: idna<4,>=2.5 in /opt/anaconda3/lib/python3.9/site-packages (from requests<3,>=2.21.0->tensorboard<2.9,>=2.8->tensorflow) (3.2)\n",
      "Requirement already satisfied: urllib3<1.27,>=1.21.1 in /opt/anaconda3/lib/python3.9/site-packages (from requests<3,>=2.21.0->tensorboard<2.9,>=2.8->tensorflow) (1.26.7)\n",
      "Requirement already satisfied: certifi>=2017.4.17 in /opt/anaconda3/lib/python3.9/site-packages (from requests<3,>=2.21.0->tensorboard<2.9,>=2.8->tensorflow) (2021.10.8)\n",
      "Requirement already satisfied: charset-normalizer~=2.0.0 in /opt/anaconda3/lib/python3.9/site-packages (from requests<3,>=2.21.0->tensorboard<2.9,>=2.8->tensorflow) (2.0.4)\n",
      "Requirement already satisfied: oauthlib>=3.0.0 in /opt/anaconda3/lib/python3.9/site-packages (from requests-oauthlib>=0.7.0->google-auth-oauthlib<0.5,>=0.4.1->tensorboard<2.9,>=2.8->tensorflow) (3.2.0)\n"
     ]
    }
   ],
   "source": [
    "!pip install tensorflow"
   ]
  },
  {
   "cell_type": "code",
   "execution_count": 2,
   "id": "11be53f9",
   "metadata": {},
   "outputs": [
    {
     "name": "stdout",
     "output_type": "stream",
     "text": [
      "WARNING:tensorflow:From /opt/anaconda3/lib/python3.9/site-packages/tensorflow/python/compat/v2_compat.py:107: disable_resource_variables (from tensorflow.python.ops.variable_scope) is deprecated and will be removed in a future version.\n",
      "Instructions for updating:\n",
      "non-resource variables are not supported in the long term\n"
     ]
    }
   ],
   "source": [
    "import tensorflow as tf\n",
    "tf.compat.v1.disable_v2_behavior()\n",
    "\n",
    "import numpy as np"
   ]
  },
  {
   "cell_type": "markdown",
   "id": "445d46bd",
   "metadata": {},
   "source": [
    "### Install Other Libraries"
   ]
  },
  {
   "cell_type": "code",
   "execution_count": 3,
   "id": "2a39e923",
   "metadata": {},
   "outputs": [],
   "source": [
    "import datetime\n",
    "from datetime import datetime\n",
    "\n",
    "from numpy.random import RandomState\n",
    "import pandas as pd\n",
    "from sklearn import preprocessing\n"
   ]
  },
  {
   "cell_type": "markdown",
   "id": "879e069f",
   "metadata": {},
   "source": [
    "## Setup Data"
   ]
  },
  {
   "cell_type": "markdown",
   "id": "d1ce9edf",
   "metadata": {},
   "source": [
    "### Categorize Salaries"
   ]
  },
  {
   "cell_type": "code",
   "execution_count": 4,
   "id": "adf46122",
   "metadata": {
    "scrolled": true
   },
   "outputs": [
    {
     "data": {
      "text/plain": [
       "<AxesSubplot:>"
      ]
     },
     "execution_count": 4,
     "metadata": {},
     "output_type": "execute_result"
    },
    {
     "data": {
      "image/png": "[encoded data removed]",
      "text/plain": [
       "<Figure size 432x288 with 1 Axes>"
      ]
     },
     "metadata": {
      "needs_background": "light"
     },
     "output_type": "display_data"
    }
   ],
   "source": [
    "df = pd.read_csv('salaries.csv')\n",
    "\n",
    "salary_ranges = [0,200000,np.inf]\n",
    "df['salaryrange'] = pd.cut(df.totalyearlycompensation, salary_ranges, labels=[0,1], include_lowest=True)\n",
    "\n",
    "df['salaryrange'].hist(bins=len(salary_ranges) - 1)"
   ]
  },
  {
   "cell_type": "code",
   "execution_count": 5,
   "id": "d11f1f97",
   "metadata": {
    "scrolled": true
   },
   "outputs": [
    {
     "data": {
      "text/plain": [
       "0    35213\n",
       "1    27429\n",
       "Name: salaryrange, dtype: int64"
      ]
     },
     "execution_count": 5,
     "metadata": {},
     "output_type": "execute_result"
    }
   ],
   "source": [
    "df.salaryrange.value_counts()"
   ]
  },
  {
   "cell_type": "markdown",
   "id": "8c9a409a",
   "metadata": {},
   "source": [
    "### Make All Values Into Integers"
   ]
  },
  {
   "cell_type": "code",
   "execution_count": 6,
   "id": "753dd032",
   "metadata": {},
   "outputs": [],
   "source": [
    "# encode timestamp into integers, by year and month\n",
    "def timestamp_to_int(timestamp):\n",
    "    dt_obj = datetime.strptime(timestamp.split(' ')[0], '%m/%d/%Y')\n",
    "    return (100 * dt_obj.year) + (dt_obj.month)\n",
    "\n",
    "df['timestamp'] = df['timestamp'].apply(timestamp_to_int)\n",
    "\n",
    "# turn company names to lowercase and encode as integers\n",
    "df['company'] = df['company'].apply(lambda t: str(t).lower())\n",
    "df['company'] = pd.Categorical(pd.factorize(df['company'])[0])\n",
    "\n",
    "# encode level as integer\n",
    "df['level'] = pd.Categorical(pd.factorize(df['level'])[0])\n",
    "\n",
    "# encode title as integer\n",
    "df['title'] = pd.Categorical(pd.factorize(df['title'])[0])\n",
    "\n",
    "# encode tag as integer\n",
    "df['tag'] = pd.Categorical(pd.factorize(df['tag'])[0])\n",
    "\n",
    "# encode gender as integer\n",
    "df['gender'] = pd.Categorical(pd.factorize(df['gender'])[0])\n",
    "\n",
    "# encode Race as integer\n",
    "df['Race'] = pd.Categorical(pd.factorize(df['Race'])[0])\n",
    "\n",
    "# encode Education as integer\n",
    "df['Education'] = pd.Categorical(pd.factorize(df['Education'])[0])\n"
   ]
  },
  {
   "cell_type": "markdown",
   "id": "54901222",
   "metadata": {},
   "source": [
    "### Remove Rows"
   ]
  },
  {
   "cell_type": "code",
   "execution_count": 7,
   "id": "1dcde5a9",
   "metadata": {},
   "outputs": [],
   "source": [
    "df = df[df['gender'] != -1]\n",
    "df = df[df['Education'] != -1]\n",
    "df = df[df['Race'] != -1]"
   ]
  },
  {
   "cell_type": "markdown",
   "id": "be47266a",
   "metadata": {},
   "source": [
    "### Drop Columns"
   ]
  },
  {
   "cell_type": "code",
   "execution_count": 8,
   "id": "919ac06d",
   "metadata": {
    "scrolled": true
   },
   "outputs": [],
   "source": [
    "# make model predict without knowledge of the totalyearlycompensation\n",
    "df.drop('totalyearlycompensation', axis=1, inplace=True)\n",
    "\n",
    "# location information is already encoded as an integer in 'cityid'\n",
    "df.drop('location', axis=1, inplace=True)\n",
    "\n",
    "# make model predict without knowledge of the base salary, stock grant value, or bonus\n",
    "df.drop('basesalary', axis=1, inplace=True)\n",
    "\n",
    "# 'otherdetails' column requires NLP to interpret\n",
    "df.drop('otherdetails', axis=1, inplace=True)\n",
    "\n",
    "# 'rowNumber' column is unnecessary\n",
    "df.drop('rowNumber', axis=1, inplace=True)\n",
    "\n",
    "# education information is entirely encoded in the 'Education' column already\n",
    "df.drop('Masters_Degree', axis=1, inplace=True)\n",
    "df.drop('Bachelors_Degree', axis=1, inplace=True)\n",
    "df.drop('Doctorate_Degree', axis=1, inplace=True)\n",
    "df.drop('Highschool', axis=1, inplace=True)\n",
    "df.drop('Some_College', axis=1, inplace=True)\n",
    "\n",
    "# race information is entirely encoded in the 'Race' column already\n",
    "df.drop('Race_Asian', axis=1, inplace=True)\n",
    "df.drop('Race_White', axis=1, inplace=True)\n",
    "df.drop('Race_Two_Or_More', axis=1, inplace=True)\n",
    "df.drop('Race_Black', axis=1, inplace=True)\n",
    "df.drop('Race_Hispanic', axis=1, inplace=True)"
   ]
  },
  {
   "cell_type": "markdown",
   "id": "15f94dc5",
   "metadata": {},
   "source": [
    "### Training/Testing Data"
   ]
  },
  {
   "cell_type": "code",
   "execution_count": 9,
   "id": "4b77b611",
   "metadata": {
    "scrolled": true
   },
   "outputs": [],
   "source": [
    "drop_indices = np.random.choice(df.index, len(df.index) % 1250, replace=False)\n",
    "df.drop(drop_indices, inplace=True)\n",
    "\n",
    "rng = RandomState()\n",
    "\n",
    "df_train = df.sample(frac=0.8, random_state=rng)\n",
    "df_test = df.loc[~df.index.isin(df_train.index)]"
   ]
  },
  {
   "cell_type": "code",
   "execution_count": 10,
   "id": "b94dd269",
   "metadata": {},
   "outputs": [],
   "source": [
    "train_data = df_train.loc[:, df_train.columns != 'salaryrange'].to_numpy()\n",
    "test_data = df_test.loc[:, df_test.columns != 'salaryrange'].to_numpy()\n",
    "\n",
    "train_labels = df_train['salaryrange'].to_numpy()\n",
    "test_labels = df_test['salaryrange'].to_numpy()\n",
    "\n",
    "train_labels = tf.keras.utils.to_categorical(train_labels, num_classes=len(salary_ranges) - 1)\n",
    "test_labels = tf.keras.utils.to_categorical(test_labels, num_classes=len(salary_ranges) - 1)"
   ]
  },
  {
   "cell_type": "markdown",
   "id": "19852ae3",
   "metadata": {},
   "source": [
    "## Make the Model"
   ]
  },
  {
   "cell_type": "markdown",
   "id": "424c9e92",
   "metadata": {},
   "source": [
    "### Set Variables"
   ]
  },
  {
   "cell_type": "code",
   "execution_count": 11,
   "id": "4518a6f3",
   "metadata": {},
   "outputs": [],
   "source": [
    "epochs = 7\n",
    "batch_size = 25"
   ]
  },
  {
   "cell_type": "markdown",
   "id": "4727f6ab",
   "metadata": {},
   "source": [
    "### Add Layers to Model"
   ]
  },
  {
   "cell_type": "code",
   "execution_count": 12,
   "id": "18e61d7c",
   "metadata": {},
   "outputs": [],
   "source": [
    "model = tf.keras.Sequential([\n",
    "    tf.keras.layers.Dense(64, activation='sigmoid'),\n",
    "    tf.keras.layers.Dense(32, activation='sigmoid'),\n",
    "    tf.keras.layers.Dense(len(salary_ranges) - 1, activation='softmax')\n",
    "])"
   ]
  },
  {
   "cell_type": "code",
   "execution_count": 13,
   "id": "03b477f5",
   "metadata": {},
   "outputs": [
    {
     "name": "stdout",
     "output_type": "stream",
     "text": [
      "Model: \"sequential\"\n",
      "_________________________________________________________________\n",
      " Layer (type)                Output Shape              Param #   \n",
      "=================================================================\n",
      " dense (Dense)               multiple                  960       \n",
      "                                                                 \n",
      " dense_1 (Dense)             multiple                  2080      \n",
      "                                                                 \n",
      " dense_2 (Dense)             multiple                  66        \n",
      "                                                                 \n",
      "=================================================================\n",
      "Total params: 3,106\n",
      "Trainable params: 3,106\n",
      "Non-trainable params: 0\n",
      "_________________________________________________________________\n",
      "Train on 17000 samples, validate on 4250 samples\n",
      "Epoch 1/7\n",
      " 2100/17000 [==>...........................] - ETA: 0s - loss: 0.3345 - acc: 0.3914 "
     ]
    },
    {
     "name": "stderr",
     "output_type": "stream",
     "text": [
      "2022-05-10 15:45:13.979520: I tensorflow/core/platform/cpu_feature_guard.cc:151] This TensorFlow binary is optimized with oneAPI Deep Neural Network Library (oneDNN) to use the following CPU instructions in performance-critical operations:  AVX2 FMA\n",
      "To enable them in other operations, rebuild TensorFlow with the appropriate compiler flags.\n"
     ]
    },
    {
     "name": "stdout",
     "output_type": "stream",
     "text": [
      "17000/17000 [==============================] - 1s 31us/sample - loss: 0.2434 - acc: 0.5858 - val_loss: 0.2092 - val_acc: 0.6591\n",
      "Epoch 2/7\n",
      " 4475/17000 [======>.......................] - ETA: 0s - loss: 0.2086 - acc: 0.6664"
     ]
    },
    {
     "name": "stderr",
     "output_type": "stream",
     "text": [
      "/opt/anaconda3/lib/python3.9/site-packages/keras/engine/training_v1.py:2057: UserWarning: `Model.state_updates` will be removed in a future version. This property should not be used in TensorFlow 2.0, as `updates` are applied automatically.\n",
      "  updates = self.state_updates\n"
     ]
    },
    {
     "name": "stdout",
     "output_type": "stream",
     "text": [
      "17000/17000 [==============================] - 0s 26us/sample - loss: 0.2024 - acc: 0.6786 - val_loss: 0.1958 - val_acc: 0.7139\n",
      "Epoch 3/7\n",
      "17000/17000 [==============================] - 0s 26us/sample - loss: 0.1899 - acc: 0.7169 - val_loss: 0.1830 - val_acc: 0.7355\n",
      "Epoch 4/7\n",
      "17000/17000 [==============================] - 0s 26us/sample - loss: 0.1770 - acc: 0.7542 - val_loss: 0.1701 - val_acc: 0.7614\n",
      "Epoch 5/7\n",
      "17000/17000 [==============================] - 0s 26us/sample - loss: 0.1655 - acc: 0.8028 - val_loss: 0.1578 - val_acc: 0.8207\n",
      "Epoch 6/7\n",
      "17000/17000 [==============================] - 0s 26us/sample - loss: 0.1520 - acc: 0.8231 - val_loss: 0.1455 - val_acc: 0.8320\n",
      "Epoch 7/7\n",
      "17000/17000 [==============================] - 0s 26us/sample - loss: 0.1411 - acc: 0.8363 - val_loss: 0.1352 - val_acc: 0.8431\n"
     ]
    },
    {
     "data": {
      "text/plain": [
       "<keras.callbacks.History at 0x7f87e13a5460>"
      ]
     },
     "execution_count": 13,
     "metadata": {},
     "output_type": "execute_result"
    }
   ],
   "source": [
    "model.compile(optimizer=tf.keras.optimizers.Adam(5e-5), loss='mse', metrics=['accuracy'])\n",
    "model.build(train_data.shape)\n",
    "model.summary()\n",
    "model.fit(train_data, train_labels, epochs=epochs, validation_data=(test_data, test_labels), batch_size=batch_size)"
   ]
  },
  {
   "cell_type": "code",
   "execution_count": 14,
   "id": "a9ad263a",
   "metadata": {
    "scrolled": true
   },
   "outputs": [
    {
     "name": "stdout",
     "output_type": "stream",
     "text": [
      "0.8430588\n"
     ]
    }
   ],
   "source": [
    "model_loss, model_metric = model.evaluate(test_data, test_labels, batch_size=batch_size)\n",
    "print(model_metric)"
   ]
  }
 ],
 "metadata": {
  "kernelspec": {
   "display_name": "Python 3 (ipykernel)",
   "language": "python",
   "name": "python3"
  },
  "language_info": {
   "codemirror_mode": {
    "name": "ipython",
    "version": 3
   },
   "file_extension": ".py",
   "mimetype": "text/x-python",
   "name": "python",
   "nbconvert_exporter": "python",
   "pygments_lexer": "ipython3",
   "version": "3.9.7"
  }
 },
 "nbformat": 4,
 "nbformat_minor": 5
}
